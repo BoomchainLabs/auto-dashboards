{
 "cells": [
  {
   "cell_type": "code",
   "execution_count": 1,
   "id": "97c293c8-6955-49ee-9fde-35f7edaea57b",
   "metadata": {},
   "outputs": [
    {
     "data": {
      "application/vnd.jupyter.widget-view+json": {
       "model_id": "8aad574563f041c3b52e4daa95a07736",
       "version_major": 2,
       "version_minor": 0
      },
      "text/plain": [
       "interactive(children=(FloatSlider(value=1.0, description='ω', max=3.0, min=0.5), FloatSlider(value=0.1, descri…"
      ]
     },
     "metadata": {},
     "output_type": "display_data"
    },
    {
     "data": {
      "text/plain": [
       "<function __main__.simulate_oscillator(omega=1.0, zeta=0.1, x0=1.0, v0=0.0)>"
      ]
     },
     "execution_count": 1,
     "metadata": {},
     "output_type": "execute_result"
    }
   ],
   "source": [
    "# Import necessary libraries\n",
    "import numpy as np\n",
    "import matplotlib.pyplot as plt\n",
    "from scipy.integrate import solve_ivp\n",
    "import ipywidgets as widgets\n",
    "from ipywidgets import interact\n",
    "\n",
    "# Define the differential equation for a damped harmonic oscillator.\n",
    "# The equation is: x'' + 2ζω x' + ω² x = 0\n",
    "# where:\n",
    "#   - ω is the natural angular frequency,\n",
    "#   - ζ (zeta) is the damping ratio.\n",
    "def damped_oscillator(t, y, omega, zeta):\n",
    "    # y[0] = x (position), y[1] = v (velocity)\n",
    "    # Return the derivatives [dx/dt, dv/dt]\n",
    "    return [y[1], -2 * zeta * omega * y[1] - omega**2 * y[0]]\n",
    "\n",
    "# Define a function that simulates the oscillator and plots the displacement vs. time.\n",
    "def simulate_oscillator(omega=1.0, zeta=0.1, x0=1.0, v0=0.0):\n",
    "    # Define the time span and evaluation points\n",
    "    t_start, t_end = 0, 20\n",
    "    t_eval = np.linspace(t_start, t_end, 400)\n",
    "    \n",
    "    # Solve the ODE with the given parameters and initial conditions\n",
    "    sol = solve_ivp(\n",
    "        damped_oscillator, \n",
    "        [t_start, t_end], \n",
    "        [x0, v0],\n",
    "        t_eval=t_eval,\n",
    "        args=(omega, zeta)\n",
    "    )\n",
    "    \n",
    "    # Plot the displacement x(t)\n",
    "    plt.figure(figsize=(10, 4))\n",
    "    plt.plot(sol.t, sol.y[0], label='x(t)')\n",
    "    plt.title('Damped Harmonic Oscillator')\n",
    "    plt.xlabel('Time')\n",
    "    plt.ylabel('Displacement')\n",
    "    plt.legend()\n",
    "    plt.grid(True)\n",
    "    plt.show()\n",
    "\n",
    "# Use ipywidgets.interact to create interactive sliders for each parameter.\n",
    "# You can adjust:\n",
    "#   - ω (omega): the natural angular frequency,\n",
    "#   - ζ (zeta): the damping ratio,\n",
    "#   - x₀: the initial displacement,\n",
    "#   - v₀: the initial velocity.\n",
    "interact(\n",
    "    simulate_oscillator,\n",
    "    omega=widgets.FloatSlider(value=1.0, min=0.5, max=3.0, step=0.1, description='ω'),\n",
    "    zeta=widgets.FloatSlider(value=0.1, min=0.0, max=1.0, step=0.05, description='ζ'),\n",
    "    x0=widgets.FloatSlider(value=1.0, min=-5.0, max=5.0, step=0.1, description='x₀'),\n",
    "    v0=widgets.FloatSlider(value=0.0, min=-5.0, max=5.0, step=0.1, description='v₀')\n",
    ")"
   ]
  },
  {
   "cell_type": "code",
   "execution_count": null,
   "id": "19ad73d1-1f67-4aa3-bdb0-955014b9fe57",
   "metadata": {},
   "outputs": [],
   "source": []
  }
 ],
 "metadata": {
  "kernelspec": {
   "display_name": "Python 3 (ipykernel)",
   "language": "python",
   "name": "python3"
  },
  "language_info": {
   "codemirror_mode": {
    "name": "ipython",
    "version": 3
   },
   "file_extension": ".py",
   "mimetype": "text/x-python",
   "name": "python",
   "nbconvert_exporter": "python",
   "pygments_lexer": "ipython3",
   "version": "3.12.9"
  }
 },
 "nbformat": 4,
 "nbformat_minor": 5
}
